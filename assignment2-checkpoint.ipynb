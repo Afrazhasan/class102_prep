{
 "cells": [
  {
   "cell_type": "code",
   "execution_count": 17,
   "metadata": {},
   "outputs": [
    {
     "name": "stdout",
     "output_type": "stream",
     "text": [
      "Divisiblity Checks\n",
      "Enter First Number :4\n",
      "Enter Second Number :2\n",
      "Number 4 is completely divisible by  2\n"
     ]
    }
   ],
   "source": [
    "print(\"Divisiblity Checks\") #PART_1\n",
    "num1= int(input(\"Enter First Number :\"))\n",
    "num2= int(input(\"Enter Second Number :\"))\n",
    "if (num1%num2==0):\n",
    "    print(\"Number\",num1, \"is completely divisible by \",num2)\n",
    "else:\n",
    "    print(\"Number\",num1, \"is completely divisible by \",num2)"
   ]
  },
  {
   "cell_type": "code",
   "execution_count": 36,
   "metadata": {},
   "outputs": [
    {
     "name": "stdout",
     "output_type": "stream",
     "text": [
      "Multiple string values\n",
      "Enter Any String :HI\n",
      "How many copies do you want? :-6\n",
      "6 Of HI are HIHIHIHIHIHI\n"
     ]
    }
   ],
   "source": [
    "print(\"Multiple string values\") #part2\n",
    "word= input(\"Enter Any String :\")\n",
    "copy= abs(int(input(\"How many copies do you want? :\")))\n",
    "result= word*copy\n",
    "print(copy,\"Of\",word,\"are\",result)"
   ]
  },
  {
   "cell_type": "code",
   "execution_count": 3,
   "metadata": {},
   "outputs": [
    {
     "name": "stdout",
     "output_type": "stream",
     "text": [
      "Enter Alphabet to check whether its vovel or not :i\n",
      "i is a vovel\n"
     ]
    }
   ],
   "source": [
    "vov=[\"a\",\"e\",\"o\",\"i\",\"u\"] #part3\n",
    "en=input(\"Enter Alphabet to check whether its vovel or not :\")\n",
    "if en in vov:\n",
    "    print(en,\"is a vovel\")\n",
    "else:\n",
    "    print(en,\"not a vovel\")"
   ]
  },
  {
   "cell_type": "code",
   "execution_count": 6,
   "metadata": {},
   "outputs": [
    {
     "name": "stdout",
     "output_type": "stream",
     "text": [
      "0\n",
      "3\n",
      "6\n",
      "9\n",
      "12\n",
      "15\n",
      "18\n"
     ]
    }
   ],
   "source": [
    "for i in range(0,20,3): #part4\n",
    "    print(i)\n"
   ]
  },
  {
   "cell_type": "code",
   "execution_count": 8,
   "metadata": {},
   "outputs": [
    {
     "data": {
      "text/plain": [
       "['Burger', 'Pizza', 'Pasta']"
      ]
     },
     "execution_count": 8,
     "metadata": {},
     "output_type": "execute_result"
    }
   ],
   "source": [
    "foods=[\"Burger\",\"Pizza\",\"Pasta\",\"Lasagnia\",\"Biryani\",\"Finger fish\",\"stakes\",\"signaporean rice\",\"broasted chicken \"]\n",
    "foods[0:3] #part5"
   ]
  },
  {
   "cell_type": "code",
   "execution_count": 10,
   "metadata": {},
   "outputs": [
    {
     "data": {
      "text/plain": [
       "['Lasagnia', 'Biryani', 'Finger fish']"
      ]
     },
     "execution_count": 10,
     "metadata": {},
     "output_type": "execute_result"
    }
   ],
   "source": [
    "foods[3:6]"
   ]
  },
  {
   "cell_type": "code",
   "execution_count": 11,
   "metadata": {},
   "outputs": [
    {
     "data": {
      "text/plain": [
       "['stakes', 'signaporean rice', 'broasted chicken ']"
      ]
     },
     "execution_count": 11,
     "metadata": {},
     "output_type": "execute_result"
    }
   ],
   "source": [
    "foods[6:]"
   ]
  },
  {
   "cell_type": "code",
   "execution_count": null,
   "metadata": {},
   "outputs": [],
   "source": []
  }
 ],
 "metadata": {
  "kernelspec": {
   "display_name": "Python 3",
   "language": "python",
   "name": "python3"
  },
  "language_info": {
   "codemirror_mode": {
    "name": "ipython",
    "version": 3
   },
   "file_extension": ".py",
   "mimetype": "text/x-python",
   "name": "python",
   "nbconvert_exporter": "python",
   "pygments_lexer": "ipython3",
   "version": "3.7.4"
  }
 },
 "nbformat": 4,
 "nbformat_minor": 2
}
