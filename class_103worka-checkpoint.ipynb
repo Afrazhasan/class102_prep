{
 "cells": [
  {
   "cell_type": "code",
   "execution_count": null,
   "metadata": {},
   "outputs": [
    {
     "name": "stdout",
     "output_type": "stream",
     "text": [
      "GAME TIME BABE\n"
     ]
    }
   ],
   "source": [
    "print('GAME TIME BABE')\n",
    "secret_number=7\n",
    "startoff= 1\n",
    "endoff=5\n",
    "while startoff<=endoff:\n",
    "    guessit=int(input('what is your guess?? '))\n",
    "    startoff += 1\n",
    "    if guessit == secret_number:\n",
    "\n",
    "        print('YOU WON')\n",
    "        break\n",
    "else:\n",
    "    print('Sorry failed')\n",
    "\n"
   ]
  },
  {
   "cell_type": "code",
   "execution_count": 1,
   "metadata": {},
   "outputs": [
    {
     "name": "stdout",
     "output_type": "stream",
     "text": [
      "start your engine\n",
      "THIS IS A CAR RACING ARENA Press HELP for further detail\n",
      ">asdsd\n",
      "sorry\n",
      ">asdas\n",
      "sorry\n",
      ">asdasd\n",
      "sorry\n",
      ">asdsad\n",
      "sorry\n",
      ">asdasd\n",
      "sorry\n",
      ">asdsad\n",
      "sorry\n",
      ">help\n",
      "\n",
      "\n",
      "        ***** TYPE START to start the car ******\n",
      "        ***** TYPE GEAR to change the gear *****\n",
      "        ***** Type break to break *********\n",
      "        **** type QUIT if you want to exit******\n",
      "\n",
      "\n",
      "        \n",
      ">start\n",
      "WOOORUMMMMM\n",
      ">break\n",
      "breaks are ONNNN!\n",
      ">gear\n",
      "CHANGED BABE\n",
      ">start\n",
      "WOOORUMMMMM\n",
      ">start\n",
      "WOOORUMMMMM\n",
      ">start\n",
      "WOOORUMMMMM\n",
      ">start\n",
      "WOOORUMMMMM\n",
      ">start\n",
      "WOOORUMMMMM\n",
      ">start\n",
      "WOOORUMMMMM\n",
      ">break\n",
      "breaks are ONNNN!\n",
      ">quit\n"
     ]
    }
   ],
   "source": [
    "print('start your engine')\n",
    "print('THIS IS A CAR RACING ARENA Press HELP for further detail')\n",
    "\n",
    "carstart=\"\"\n",
    "while carstart != \"Quit\":\n",
    "    carstart=input(\">\")\n",
    "    \n",
    "    if(carstart==\"help\"):\n",
    "\n",
    "        print(\"\"\"\n",
    "\n",
    "        ***** TYPE START to start the car ******\n",
    "        ***** TYPE GEAR to change the gear *****\n",
    "        ***** Type break to break *********\n",
    "        **** type QUIT if you want to exit******\n",
    "\n",
    "\n",
    "        \"\"\")\n",
    "    elif(carstart==\"start\"):\n",
    "        print(\"WOOORUMMMMM\")\n",
    "    elif(carstart==\"gear\"):\n",
    "        print(\"CHANGED BABE\")\n",
    "    elif(carstart==\"break\"):\n",
    "        print(\"breaks are ONNNN!\")\n",
    "    elif(carstart==\"quit\"):\n",
    "        break\n",
    "    else:\n",
    "        print(\"sorry\")\n",
    "          \n",
    "\n"
   ]
  },
  {
   "cell_type": "code",
   "execution_count": null,
   "metadata": {},
   "outputs": [],
   "source": []
  }
 ],
 "metadata": {
  "kernelspec": {
   "display_name": "Python 3",
   "language": "python",
   "name": "python3"
  },
  "language_info": {
   "codemirror_mode": {
    "name": "ipython",
    "version": 3
   },
   "file_extension": ".py",
   "mimetype": "text/x-python",
   "name": "python",
   "nbconvert_exporter": "python",
   "pygments_lexer": "ipython3",
   "version": "3.7.4"
  }
 },
 "nbformat": 4,
 "nbformat_minor": 2
}
